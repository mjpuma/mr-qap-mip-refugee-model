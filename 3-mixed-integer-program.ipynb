{
 "cells": [
  {
   "cell_type": "code",
   "execution_count": 1,
   "id": "bf8f68a5",
   "metadata": {},
   "outputs": [],
   "source": [
    "import pandas as pd\n",
    "from scipy.optimize import linprog\n",
    "from pulp import LpMaximize, LpMinimize, LpProblem, LpStatus, lpSum, LpVariable\n",
    "import re\n",
    "from fuzzywuzzy import process"
   ]
  },
  {
   "cell_type": "code",
   "execution_count": 2,
   "id": "c5e79cca",
   "metadata": {},
   "outputs": [],
   "source": [
    "routes = pd.read_csv('outputs/selected_routes.csv')\n",
    "attractions = pd.read_csv('mr-qap/mr-qap-results.csv').round(2)\n",
    "refugee_data = pd.read_csv('refugee_data/refugee_conflict_5.20.22.csv')"
   ]
  },
  {
   "cell_type": "code",
   "execution_count": 3,
   "id": "035d5ea2",
   "metadata": {},
   "outputs": [
    {
     "name": "stdout",
     "output_type": "stream",
     "text": [
      "6824517\n"
     ]
    }
   ],
   "source": [
    "total_refugees = refugee_data[refugee_data.conflict=='Ukraine'].refugees.sum()\n",
    "print(total_refugees)"
   ]
  },
  {
   "cell_type": "markdown",
   "id": "adf36834",
   "metadata": {},
   "source": [
    "## Population lookups with Geonames"
   ]
  },
  {
   "cell_type": "markdown",
   "id": "847bb71e",
   "metadata": {},
   "source": [
    "First we load in Geonames data for Ukraine. We round the lat/lon to the whole number which gives ~100km resolution. This seems reasonable; people would be affected by a conflict within a 100km radius.\n",
    "\n",
    "We then get population figures at the admin 2 level, since those are the levels which sum to 44M (the correct population figure for Ukraine)"
   ]
  },
  {
   "cell_type": "code",
   "execution_count": 4,
   "id": "99ace11a",
   "metadata": {},
   "outputs": [],
   "source": [
    "features = ['PPL', 'PPLA', 'PPLA2',' PPLA3', 'PPLA4', 'PPLA5','PPLC','PPLCH','PPLF','PPLG','PPLH','PPLQ','PPLR','PPLS',\n",
    "            'PPLW','PPLX','RGN']"
   ]
  },
  {
   "cell_type": "code",
   "execution_count": 5,
   "id": "b0c01740",
   "metadata": {},
   "outputs": [
    {
     "name": "stdout",
     "output_type": "stream",
     "text": [
      "42503255\n"
     ]
    },
    {
     "name": "stderr",
     "output_type": "stream",
     "text": [
      "/var/folders/pp/vgfp1wf143q46m_8v6qbt3bw0000gn/T/ipykernel_37586/4043745648.py:2: DtypeWarning: Columns (11) have mixed types. Specify dtype option on import or set low_memory=False.\n",
      "  city_df = pd.read_csv(\n"
     ]
    }
   ],
   "source": [
    "CITY_FILE = \"inputs/UA.txt\"\n",
    "city_df = pd.read_csv(\n",
    "    CITY_FILE,\n",
    "    sep=\"\\t\",\n",
    "    header=0,\n",
    "    names=[\n",
    "        \"geonameid\",\n",
    "        \"name\",\n",
    "        \"asciiname\",\n",
    "        \"alternatenames\",\n",
    "        \"latitude\",\n",
    "        \"longitude\",\n",
    "        \"feature class\",\n",
    "        \"feature code\",\n",
    "        \"country code\",\n",
    "        \"cc2\",\n",
    "        \"admin1 code\",\n",
    "        \"admin2 code\",\n",
    "        \"admin3 code\",\n",
    "        \"admin4 code\",\n",
    "        \"population\",\n",
    "        \"elevation\",\n",
    "        \"dem\",\n",
    "        \"timezone\",\n",
    "        \"modification date\",\n",
    "    ],\n",
    ")\n",
    "\n",
    "city_df = city_df[city_df['feature code'].isin(features)]\n",
    "\n",
    "# city_df_a1 = city_df.dropna(subset=['admin1 code'])\n",
    "# city_df = city_df.dropna(subset=['admin2 code'])\n",
    "\n",
    "subset_cols = [\"name\", \"latitude\", \"longitude\", \"country code\", \"population\"]\n",
    "city_df = city_df[city_df['country code'] == 'UA'].reset_index()\n",
    "city_df = city_df[subset_cols]\n",
    "city_df['lat'] = city_df.latitude.round(0)\n",
    "city_df['lon'] = city_df.longitude.round(0)\n",
    "\n",
    "population = pd.DataFrame(city_df.groupby(['lat','lon']).population.sum()).reset_index()\n",
    "print(population.population.sum())"
   ]
  },
  {
   "cell_type": "code",
   "execution_count": 6,
   "id": "14f3a91e",
   "metadata": {
    "scrolled": true
   },
   "outputs": [],
   "source": [
    "routes['lat'] = routes.conflict_lat.round(0)\n",
    "routes['lon'] = routes.conflict_lon.round(0)"
   ]
  },
  {
   "cell_type": "code",
   "execution_count": 7,
   "id": "b19e2abf",
   "metadata": {},
   "outputs": [
    {
     "data": {
      "text/plain": [
       "(406, 13)"
      ]
     },
     "execution_count": 7,
     "metadata": {},
     "output_type": "execute_result"
    }
   ],
   "source": [
    "routes.shape"
   ]
  },
  {
   "cell_type": "code",
   "execution_count": 8,
   "id": "da8db83b",
   "metadata": {},
   "outputs": [],
   "source": [
    "routes = pd.merge(routes, population, left_on=['lat','lon'], right_on=['lat','lon'])"
   ]
  },
  {
   "cell_type": "code",
   "execution_count": 9,
   "id": "0660af17",
   "metadata": {},
   "outputs": [
    {
     "data": {
      "text/plain": [
       "(406, 14)"
      ]
     },
     "execution_count": 9,
     "metadata": {},
     "output_type": "execute_result"
    }
   ],
   "source": [
    "routes.shape"
   ]
  },
  {
   "cell_type": "code",
   "execution_count": 10,
   "id": "7918d3ad",
   "metadata": {},
   "outputs": [],
   "source": [
    "del(routes['lat'])\n",
    "del(routes['lon'])"
   ]
  },
  {
   "cell_type": "code",
   "execution_count": 11,
   "id": "7f049cba",
   "metadata": {
    "scrolled": true
   },
   "outputs": [
    {
     "data": {
      "text/html": [
       "<div>\n",
       "<style scoped>\n",
       "    .dataframe tbody tr th:only-of-type {\n",
       "        vertical-align: middle;\n",
       "    }\n",
       "\n",
       "    .dataframe tbody tr th {\n",
       "        vertical-align: top;\n",
       "    }\n",
       "\n",
       "    .dataframe thead th {\n",
       "        text-align: right;\n",
       "    }\n",
       "</style>\n",
       "<table border=\"1\" class=\"dataframe\">\n",
       "  <thead>\n",
       "    <tr style=\"text-align: right;\">\n",
       "      <th></th>\n",
       "      <th>conflict</th>\n",
       "      <th>crossing</th>\n",
       "      <th>crossing_country</th>\n",
       "      <th>duration</th>\n",
       "      <th>duration_text</th>\n",
       "      <th>mode</th>\n",
       "      <th>crossing_lat</th>\n",
       "      <th>crossing_lon</th>\n",
       "      <th>conflict_lat</th>\n",
       "      <th>conflict_lon</th>\n",
       "      <th>fatalities</th>\n",
       "      <th>population</th>\n",
       "    </tr>\n",
       "  </thead>\n",
       "  <tbody>\n",
       "    <tr>\n",
       "      <th>0</th>\n",
       "      <td>Oleksandrivka</td>\n",
       "      <td>Yahodyn - Dorohusk</td>\n",
       "      <td>Poland</td>\n",
       "      <td>59002.0</td>\n",
       "      <td>16 hours 23 mins</td>\n",
       "      <td>driving</td>\n",
       "      <td>51.185221</td>\n",
       "      <td>23.807771</td>\n",
       "      <td>46.6</td>\n",
       "      <td>32.1</td>\n",
       "      <td>100.0</td>\n",
       "      <td>694977</td>\n",
       "    </tr>\n",
       "    <tr>\n",
       "      <th>1</th>\n",
       "      <td>Oleksandrivka</td>\n",
       "      <td>Platonove - Hoianul Nou</td>\n",
       "      <td>Moldova</td>\n",
       "      <td>38239.0</td>\n",
       "      <td>10 hours 37 mins</td>\n",
       "      <td>driving</td>\n",
       "      <td>47.403518</td>\n",
       "      <td>29.329999</td>\n",
       "      <td>46.6</td>\n",
       "      <td>32.1</td>\n",
       "      <td>100.0</td>\n",
       "      <td>694977</td>\n",
       "    </tr>\n",
       "    <tr>\n",
       "      <th>2</th>\n",
       "      <td>Oleksandrivka</td>\n",
       "      <td>Porubne - Siret</td>\n",
       "      <td>Romania</td>\n",
       "      <td>54337.0</td>\n",
       "      <td>15 hours 6 mins</td>\n",
       "      <td>driving</td>\n",
       "      <td>47.988980</td>\n",
       "      <td>26.060076</td>\n",
       "      <td>46.6</td>\n",
       "      <td>32.1</td>\n",
       "      <td>100.0</td>\n",
       "      <td>694977</td>\n",
       "    </tr>\n",
       "    <tr>\n",
       "      <th>3</th>\n",
       "      <td>Oleksandrivka</td>\n",
       "      <td>Malyi Bereznyi - Ubl'a</td>\n",
       "      <td>Slovakia</td>\n",
       "      <td>68319.0</td>\n",
       "      <td>18 hours 59 mins</td>\n",
       "      <td>driving</td>\n",
       "      <td>48.885205</td>\n",
       "      <td>22.420625</td>\n",
       "      <td>46.6</td>\n",
       "      <td>32.1</td>\n",
       "      <td>100.0</td>\n",
       "      <td>694977</td>\n",
       "    </tr>\n",
       "    <tr>\n",
       "      <th>4</th>\n",
       "      <td>Oleksandrivka</td>\n",
       "      <td>Chop (Tysa) - Zakhon</td>\n",
       "      <td>Hungary</td>\n",
       "      <td>69480.0</td>\n",
       "      <td>19 hours 18 mins</td>\n",
       "      <td>driving</td>\n",
       "      <td>48.418594</td>\n",
       "      <td>22.170066</td>\n",
       "      <td>46.6</td>\n",
       "      <td>32.1</td>\n",
       "      <td>100.0</td>\n",
       "      <td>694977</td>\n",
       "    </tr>\n",
       "  </tbody>\n",
       "</table>\n",
       "</div>"
      ],
      "text/plain": [
       "        conflict                 crossing crossing_country  duration  \\\n",
       "0  Oleksandrivka       Yahodyn - Dorohusk           Poland   59002.0   \n",
       "1  Oleksandrivka  Platonove - Hoianul Nou          Moldova   38239.0   \n",
       "2  Oleksandrivka          Porubne - Siret          Romania   54337.0   \n",
       "3  Oleksandrivka   Malyi Bereznyi - Ubl'a         Slovakia   68319.0   \n",
       "4  Oleksandrivka     Chop (Tysa) - Zakhon          Hungary   69480.0   \n",
       "\n",
       "      duration_text     mode  crossing_lat  crossing_lon  conflict_lat  \\\n",
       "0  16 hours 23 mins  driving     51.185221     23.807771          46.6   \n",
       "1  10 hours 37 mins  driving     47.403518     29.329999          46.6   \n",
       "2   15 hours 6 mins  driving     47.988980     26.060076          46.6   \n",
       "3  18 hours 59 mins  driving     48.885205     22.420625          46.6   \n",
       "4  19 hours 18 mins  driving     48.418594     22.170066          46.6   \n",
       "\n",
       "   conflict_lon  fatalities  population  \n",
       "0          32.1       100.0      694977  \n",
       "1          32.1       100.0      694977  \n",
       "2          32.1       100.0      694977  \n",
       "3          32.1       100.0      694977  \n",
       "4          32.1       100.0      694977  "
      ]
     },
     "execution_count": 11,
     "metadata": {},
     "output_type": "execute_result"
    }
   ],
   "source": [
    "routes.head()"
   ]
  },
  {
   "cell_type": "code",
   "execution_count": 12,
   "id": "d995289c",
   "metadata": {},
   "outputs": [
    {
     "name": "stdout",
     "output_type": "stream",
     "text": [
      "38916353\n"
     ]
    }
   ],
   "source": [
    "total_affected_population = routes.drop_duplicates(subset=['conflict']).population.sum()\n",
    "print(total_affected_population)"
   ]
  },
  {
   "cell_type": "code",
   "execution_count": 13,
   "id": "545cad28",
   "metadata": {},
   "outputs": [
    {
     "name": "stdout",
     "output_type": "stream",
     "text": [
      "0.175\n"
     ]
    }
   ],
   "source": [
    "refugee_ratio = total_refugees / total_affected_population\n",
    "print(round(refugee_ratio,3))"
   ]
  },
  {
   "cell_type": "markdown",
   "id": "aab3bc0f",
   "metadata": {},
   "source": [
    "## Generate Linear Optimization Model"
   ]
  },
  {
   "cell_type": "code",
   "execution_count": 14,
   "id": "3e8249d3",
   "metadata": {},
   "outputs": [],
   "source": [
    "def adjust_duration_transit(row):\n",
    "    \"\"\"\n",
    "    Hardcoded adjustment to transit (divide duration by 4) as an equivalency measure to driving.\n",
    "    In that case, a 8 hour train ride is equivalent to a 2 hour car ride.\n",
    "    \"\"\"\n",
    "    if row['mode'] == 'transit':\n",
    "        row.duration = row.duration / 4\n",
    "    return row\n",
    "\n",
    "routes = routes.apply(lambda row: adjust_duration_transit(row), axis=1)"
   ]
  },
  {
   "cell_type": "code",
   "execution_count": 15,
   "id": "54234b91",
   "metadata": {},
   "outputs": [],
   "source": [
    "attractions = dict(zip(attractions.country, attractions.predicted_shares))"
   ]
  },
  {
   "cell_type": "code",
   "execution_count": 16,
   "id": "50599bb7",
   "metadata": {},
   "outputs": [
    {
     "data": {
      "text/plain": [
       "{'Hungary': 0.11,\n",
       " 'Belarus': 0.03,\n",
       " 'Moldova': 0.12,\n",
       " 'Poland': 0.18,\n",
       " 'Romania': 0.17,\n",
       " 'Russian Federation': 0.19,\n",
       " 'Slovakia': 0.2}"
      ]
     },
     "execution_count": 16,
     "metadata": {},
     "output_type": "execute_result"
    }
   ],
   "source": [
    "attractions"
   ]
  },
  {
   "cell_type": "markdown",
   "id": "a47bb827",
   "metadata": {},
   "source": [
    "`min{sum(duration)}`\n",
    "\n",
    "each `(conflict, crossing)` pair is a variable for total refugees routed\n",
    "\n",
    "the sum of `sum{(conflict, crossing)}` for each conflict `i` must equal total refugees for that conflict.\n",
    "\n",
    "`(conflict, crossing)` is continuous but can equal 0\n",
    "\n",
    "the sum of each `country` refugees divided by total refugees must equal that country's `predicted_shares`"
   ]
  },
  {
   "cell_type": "code",
   "execution_count": 17,
   "id": "0e4622d5",
   "metadata": {},
   "outputs": [],
   "source": [
    "def get_population(conflict):\n",
    "    population = routes[routes.conflict==conflict].iloc[0].population\n",
    "    return population"
   ]
  },
  {
   "cell_type": "code",
   "execution_count": 18,
   "id": "2cba1fa6",
   "metadata": {},
   "outputs": [],
   "source": [
    "reg = re.compile(r'[\\W]')"
   ]
  },
  {
   "cell_type": "code",
   "execution_count": 19,
   "id": "a8ebf9b5",
   "metadata": {},
   "outputs": [],
   "source": [
    "def strip_text(text):\n",
    "    return re.sub(reg, '', text).lower()"
   ]
  },
  {
   "cell_type": "code",
   "execution_count": 20,
   "id": "36eb4893",
   "metadata": {},
   "outputs": [],
   "source": [
    "conflicts = routes.conflict.unique()\n",
    "crossings = routes.crossing.unique()\n",
    "countries = routes.crossing_country.unique()"
   ]
  },
  {
   "cell_type": "code",
   "execution_count": 21,
   "id": "fb49c93e",
   "metadata": {},
   "outputs": [],
   "source": [
    "model = LpProblem(name=\"refugee-routing\", sense=LpMinimize)"
   ]
  },
  {
   "cell_type": "code",
   "execution_count": 22,
   "id": "15fa0277",
   "metadata": {},
   "outputs": [],
   "source": [
    "variables = {}\n",
    "variables_lookup = {}\n",
    "\n",
    "for conf in conflicts:\n",
    "    variables[conf] = []\n",
    "    \n",
    "for kk, vv in routes.iterrows():\n",
    "    conf = strip_text(vv.conflict)\n",
    "    cross = strip_text(vv.crossing)\n",
    "    country = strip_text(vv.crossing_country)\n",
    "    mode = vv['mode']\n",
    "    v = f\"{conf}__{cross}__{country}__{mode}\"\n",
    "    x = LpVariable(name=v, lowBound=0, cat='Continuous')\n",
    "    variables[vv.conflict].append(x)\n",
    "    \n",
    "    variables_lookup[v] = dict(conflict=vv.conflict,\n",
    "                               crossing=vv.crossing,\n",
    "                               country=vv.crossing_country,\n",
    "                               mode=mode,\n",
    "                               duration=vv.duration)"
   ]
  },
  {
   "cell_type": "code",
   "execution_count": 23,
   "id": "bd837c77",
   "metadata": {},
   "outputs": [],
   "source": [
    "vars_by_country = {}\n",
    "for country in countries:\n",
    "    vars_by_country[country] = []\n",
    "\n",
    "for kk, vv in variables.items():\n",
    "    for i in vv:\n",
    "        country = variables_lookup[i.name]['country']\n",
    "        vars_by_country[country].append(i)"
   ]
  },
  {
   "cell_type": "code",
   "execution_count": 24,
   "id": "61d157c7",
   "metadata": {},
   "outputs": [],
   "source": [
    "for conf in conflicts:\n",
    "    pop = get_population(conf)\n",
    "    model += (lpSum(variables[conf]) == round(refugee_ratio * pop,0), \n",
    "              f\"{conf}_refugee_constraint\") "
   ]
  },
  {
   "cell_type": "code",
   "execution_count": 25,
   "id": "87773b66",
   "metadata": {},
   "outputs": [],
   "source": [
    "for c in countries[:6]:\n",
    "    country_vars = vars_by_country[c]\n",
    "    attraction = round(attractions[c],2)\n",
    "    \n",
    "    model += (lpSum(country_vars)/total_refugees == attraction,\n",
    "              f\"{c}_attraction\")"
   ]
  },
  {
   "cell_type": "code",
   "execution_count": 26,
   "id": "206b3219",
   "metadata": {},
   "outputs": [],
   "source": [
    "obj_func_array = []\n",
    "for kk, vv in variables.items():\n",
    "    for i in vv:\n",
    "        refugees = i\n",
    "        duration = variables_lookup[i.name]['duration']\n",
    "        obj_func_array.append(refugees*duration)"
   ]
  },
  {
   "cell_type": "code",
   "execution_count": 27,
   "id": "65de3557",
   "metadata": {},
   "outputs": [],
   "source": [
    "model += lpSum(obj_func_array)"
   ]
  },
  {
   "cell_type": "code",
   "execution_count": 28,
   "id": "ca6a8965",
   "metadata": {
    "scrolled": false
   },
   "outputs": [
    {
     "name": "stdout",
     "output_type": "stream",
     "text": [
      "Welcome to the CBC MILP Solver \n",
      "Version: 2.10.3 \n",
      "Build Date: Dec 15 2019 \n",
      "\n",
      "command line - /Users/brandonrose/opt/anaconda3/envs/b39/lib/python3.9/site-packages/pulp/apis/../solverdir/cbc/osx/64/cbc /var/folders/pp/vgfp1wf143q46m_8v6qbt3bw0000gn/T/dc74ade486af4a54a1ee90aafca42de9-pulp.mps timeMode elapsed branch printingOptions all solution /var/folders/pp/vgfp1wf143q46m_8v6qbt3bw0000gn/T/dc74ade486af4a54a1ee90aafca42de9-pulp.sol (default strategy 1)\n",
      "At line 2 NAME          MODEL\n",
      "At line 3 ROWS\n",
      "At line 57 COLUMNS\n",
      "At line 1217 RHS\n",
      "At line 1270 BOUNDS\n",
      "At line 1271 ENDATA\n",
      "Problem MODEL has 52 rows, 406 columns and 753 elements\n",
      "Coin0008I MODEL read with 0 errors\n",
      "Option for timeMode changed from cpu to elapsed\n",
      "Presolve 52 (0) rows, 322 (-84) columns and 598 (-155) elements\n",
      "0  Obj 0 Primal inf 12352374 (52)\n",
      "34  Obj 1.9736851e+11 Primal inf 4217191.9 (34)\n",
      "73  Obj 2.1713868e+11 Primal inf 241286.36 (14)\n",
      "85  Obj 2.1722585e+11\n",
      "Optimal - objective value 2.1722585e+11\n",
      "After Postsolve, objective 2.1722585e+11, infeasibilities - dual 0 (0), primal 0 (0)\n",
      "Optimal objective 2.172258532e+11 - 85 iterations time 0.002, Presolve 0.00\n",
      "Option for printingOptions changed from normal to all\n",
      "Total time (CPU seconds):       0.00   (Wallclock seconds):       0.00\n",
      "\n"
     ]
    }
   ],
   "source": [
    "status = model.solve()"
   ]
  },
  {
   "cell_type": "code",
   "execution_count": 29,
   "id": "1fd68912",
   "metadata": {},
   "outputs": [
    {
     "name": "stdout",
     "output_type": "stream",
     "text": [
      "status: 1, Optimal\n",
      "objective: 217225853235.82248\n",
      "baryshivka__choptysazakhon__hungary__driving: 0.0\n",
      "baryshivka__malyibereznyiubla__slovakia__driving: 0.0\n",
      "baryshivka__platonovehoianulnou__moldova__driving: 0.0\n",
      "baryshivka__porubnesiret__romania__driving: 0.0\n",
      "baryshivka__senkivkanoviyurkovychi__russianfederation__driving: 0.0\n",
      "baryshivka__slavutychkomaryn__belarus__driving: 0.0\n",
      "baryshivka__yahodyndorohusk__poland__driving: 536622.0\n",
      "bilohorivka__choptysazakhon__hungary__driving: 0.0\n",
      "bilohorivka__krasnatalivkavoloshino__russianfederation__driving: 0.0\n",
      "bilohorivka__malyibereznyiubla__slovakia__driving: 0.0\n",
      "bilohorivka__platonovehoianulnou__moldova__driving: 0.0\n",
      "bilohorivka__porubnesiret__romania__driving: 162643.0\n",
      "bilohorivka__vilchaoleksandrivka__belarus__driving: 0.0\n",
      "bilohorivka__yahodyndorohusk__poland__driving: 0.0\n",
      "borodianka__choptysazakhon__hungary__driving: 0.0\n",
      "borodianka__malyibereznyiubla__slovakia__driving: 0.0\n",
      "borodianka__mohylivpodilskyiotach__moldova__driving: 0.0\n",
      "borodianka__porubnesiret__romania__driving: 0.0\n",
      "borodianka__senkivkanoviyurkovychi__russianfederation__driving: 0.0\n",
      "borodianka__vilchaoleksandrivka__belarus__driving: 0.0\n",
      "borodianka__yahodyndorohusk__poland__driving: 36926.0\n",
      "bucha__bachivsktroiebortne__russianfederation__transit: 0.0\n",
      "bucha__choptysazakhon__hungary__driving: 0.0\n",
      "bucha__choptysazakhon__hungary__transit: 84938.0\n",
      "bucha__krakivetskorchova__poland__transit: 0.0\n",
      "bucha__malyibereznyiubla__slovakia__driving: 0.0\n",
      "bucha__mohylivpodilskyiotach__moldova__driving: 0.0\n",
      "bucha__mohylivpodilskyiotach__moldova__transit: 0.0\n",
      "bucha__porubnesiret__romania__driving: 0.0\n",
      "bucha__senkivkanoviyurkovychi__russianfederation__driving: 0.0\n",
      "bucha__senkivkaveselivka__belarus__transit: 0.0\n",
      "bucha__uzhhorodvyshnieniemetske__slovakia__transit: 0.0\n",
      "bucha__vilchaoleksandrivka__belarus__driving: 0.0\n",
      "bucha__yahodyndorohusk__poland__driving: 0.0\n",
      "chernihiv__bachivsktroiebortne__russianfederation__transit: 0.0\n",
      "chernihiv__choptysazakhon__hungary__driving: 0.0\n",
      "chernihiv__choptysazakhon__hungary__transit: 0.0\n",
      "chernihiv__malyibereznyiubla__slovakia__driving: 0.0\n",
      "chernihiv__mohylivpodilskyiotach__moldova__driving: 0.0\n",
      "chernihiv__mohylivpodilskyiotach__moldova__transit: 0.0\n",
      "chernihiv__porubnesiret__romania__driving: 0.0\n",
      "chernihiv__senkivkanoviyurkovychi__russianfederation__driving: 0.0\n",
      "chernihiv__slavutychkomaryn__belarus__driving: 0.0\n",
      "chernihiv__solotvynosihetumarmatsiiei__romania__transit: 0.0\n",
      "chernihiv__uzhhorodvyshnieniemetske__slovakia__transit: 60687.0\n",
      "chernihiv__yahodyndorohusk__poland__driving: 0.0\n",
      "chernihiv__yahodyndorohusk__poland__transit: 0.0\n",
      "desna__choptysazakhon__hungary__driving: 0.0\n",
      "desna__malyibereznyiubla__slovakia__driving: 0.0\n",
      "desna__mohylivpodilskyiotach__moldova__driving: 0.0\n",
      "desna__porubnesiret__romania__driving: 0.0\n",
      "desna__senkivkanoviyurkovychi__russianfederation__driving: 0.0\n",
      "desna__slavutychkomaryn__belarus__driving: 24398.0\n",
      "desna__yahodyndorohusk__poland__driving: 0.0\n",
      "donetsk__choptysazakhon__hungary__driving: 0.0\n",
      "donetsk__malyibereznyiubla__slovakia__driving: 0.0\n",
      "donetsk__marynivkakuibyshevo__russianfederation__driving: 395897.23\n",
      "donetsk__platonovehoianulnou__moldova__driving: 4958.77\n",
      "donetsk__porubnesiret__romania__driving: 0.0\n",
      "donetsk__vilchaoleksandrivka__belarus__driving: 0.0\n",
      "donetsk__yahodyndorohusk__poland__driving: 0.0\n",
      "hostomel__bachivsktroiebortne__russianfederation__transit: 0.0\n",
      "hostomel__choptysazakhon__hungary__driving: 0.0\n",
      "hostomel__choptysazakhon__hungary__transit: 0.0\n",
      "hostomel__krakivetskorchova__poland__transit: 0.0\n",
      "hostomel__malyibereznyiubla__slovakia__driving: 0.0\n",
      "hostomel__mohylivpodilskyiotach__moldova__driving: 0.0\n",
      "hostomel__mohylivpodilskyiotach__moldova__transit: 0.0\n",
      "hostomel__porubnesiret__romania__driving: 0.0\n",
      "hostomel__senkivkanoviyurkovychi__russianfederation__driving: 0.0\n",
      "hostomel__senkivkaveselivka__belarus__transit: 0.0\n",
      "hostomel__solotvynosihetumarmatsiiei__romania__transit: 0.0\n",
      "hostomel__uzhhorodvyshnieniemetske__slovakia__transit: 36926.0\n",
      "hostomel__vilchaoleksandrivka__belarus__driving: 0.0\n",
      "hostomel__yahodyndorohusk__poland__driving: 0.0\n",
      "irpin__choptysazakhon__hungary__driving: 0.0\n",
      "irpin__malyibereznyiubla__slovakia__driving: 0.0\n",
      "irpin__mohylivpodilskyiotach__moldova__driving: 0.0\n",
      "irpin__porubnesiret__romania__driving: 0.0\n",
      "irpin__senkivkanoviyurkovychi__russianfederation__driving: 0.0\n",
      "irpin__vilchaoleksandrivka__belarus__driving: 0.0\n",
      "irpin__yahodyndorohusk__poland__driving: 84938.0\n",
      "izium__choptysazakhon__hungary__driving: 0.0\n",
      "izium__hoptivkanehotievka__russianfederation__driving: 0.0\n",
      "izium__malyibereznyiubla__slovakia__driving: 0.0\n",
      "izium__platonovehoianulnou__moldova__driving: 0.0\n",
      "izium__porubnesiret__romania__driving: 19556.0\n",
      "izium__vilchaoleksandrivka__belarus__driving: 0.0\n",
      "izium__yahodyndorohusk__poland__driving: 0.0\n",
      "kharkiv__choptysazakhon__hungary__driving: 0.0\n",
      "kharkiv__choptysazakhon__hungary__transit: 291308.0\n",
      "kharkiv__hoptivkanehotievka__russianfederation__driving: 0.0\n",
      "kharkiv__hoptivkanehotievka__russianfederation__transit: 0.0\n",
      "kharkiv__maiakyudobnepalanka__moldova__transit: 0.0\n",
      "kharkiv__malyibereznyiubla__slovakia__driving: 0.0\n",
      "kharkiv__platonovehoianulnou__moldova__driving: 0.0\n",
      "kharkiv__porubnesiret__romania__driving: 0.0\n",
      "kharkiv__senkivkaveselivka__belarus__transit: 0.0\n",
      "kharkiv__smilnytsiakrostsenko__poland__transit: 0.0\n",
      "kharkiv__solotvynosihetumarmatsiiei__romania__transit: 0.0\n",
      "kharkiv__uzhhorodvyshnieniemetske__slovakia__transit: 0.0\n",
      "kharkiv__vilchaoleksandrivka__belarus__driving: 0.0\n",
      "kharkiv__yahodyndorohusk__poland__driving: 0.0\n",
      "kherson__bachivsktroiebortne__russianfederation__transit: 0.0\n",
      "kherson__choptysazakhon__hungary__driving: 0.0\n",
      "kherson__choptysazakhon__hungary__transit: 0.0\n",
      "kherson__maiakyudobnepalanka__moldova__transit: 0.0\n",
      "kherson__malyibereznyiubla__slovakia__driving: 0.0\n",
      "kherson__novoazovskveselovoznesenka__russianfederation__driving: 0.0\n",
      "kherson__platonovehoianulnou__moldova__driving: 0.0\n",
      "kherson__porubnesiret__romania__driving: 0.0\n",
      "kherson__ravaruskakhrebenne__poland__transit: 0.0\n",
      "kherson__solotvynosihetumarmatsiiei__romania__transit: 0.0\n",
      "kherson__uzhhorodvyshnieniemetske__slovakia__transit: 100664.0\n",
      "kherson__vilchaoleksandrivka__belarus__driving: 0.0\n",
      "kherson__yahodyndorohusk__poland__driving: 0.0\n",
      "kobleve__choptysazakhon__hungary__driving: 0.0\n",
      "kobleve__kuchurhanpervomaisk__moldova__driving: 0.0\n",
      "kobleve__malyibereznyiubla__slovakia__driving: 0.0\n",
      "kobleve__orlivkaisaceea__romania__driving: 45470.0\n",
      "kobleve__senkivkanoviyurkovychi__russianfederation__driving: 0.0\n",
      "kobleve__ustyluhzosin__poland__driving: 0.0\n",
      "kobleve__vilchaoleksandrivka__belarus__driving: 0.0\n",
      "kramatorsk__choptysazakhon__hungary__driving: 0.0\n",
      "kramatorsk__hoptivkanehotievka__russianfederation__driving: 0.0\n",
      "kramatorsk__malyibereznyiubla__slovakia__driving: 123839.43\n",
      "kramatorsk__platonovehoianulnou__moldova__driving: 0.0\n",
      "kramatorsk__porubnesiret__romania__driving: 0.0\n",
      "kramatorsk__vilchaoleksandrivka__belarus__driving: 0.0\n",
      "kramatorsk__yahodyndorohusk__poland__driving: 38803.57\n",
      "kreminna__choptysazakhon__hungary__driving: 0.0\n",
      "kreminna__malyibereznyiubla__slovakia__driving: 93596.84\n",
      "kreminna__piskylohachivka__russianfederation__driving: 0.0\n",
      "kreminna__platonovehoianulnou__moldova__driving: 0.0\n",
      "kreminna__porubnesiret__romania__driving: 69046.16\n",
      "kreminna__vilchaoleksandrivka__belarus__driving: 0.0\n",
      "kreminna__yahodyndorohusk__poland__driving: 0.0\n",
      "kruty__choptysazakhon__hungary__driving: 0.0\n",
      "kruty__katerynivkakrupets__russianfederation__driving: 0.0\n",
      "kruty__malyibereznyiubla__slovakia__driving: 0.0\n",
      "kruty__platonovehoianulnou__moldova__driving: 0.0\n",
      "kruty__porubnesiret__romania__driving: 0.0\n",
      "kruty__slavutychkomaryn__belarus__driving: 34813.0\n",
      "kruty__yahodyndorohusk__poland__driving: 0.0\n",
      "kurakhove__choptysazakhon__hungary__driving: 0.0\n",
      "kurakhove__malyibereznyiubla__slovakia__driving: 0.0\n",
      "kurakhove__novoazovskveselovoznesenka__russianfederation__driving: 0.0\n",
      "kurakhove__platonovehoianulnou__moldova__driving: 48146.0\n",
      "kurakhove__porubnesiret__romania__driving: 0.0\n",
      "kurakhove__vilchaoleksandrivka__belarus__driving: 0.0\n",
      "kurakhove__yahodyndorohusk__poland__driving: 0.0\n",
      "kyselivka__choptysazakhon__hungary__driving: 0.0\n",
      "kyselivka__malyibereznyiubla__slovakia__driving: 0.0\n",
      "kyselivka__novoazovskveselovoznesenka__russianfederation__driving: 0.0\n",
      "kyselivka__platonovehoianulnou__moldova__driving: 121874.0\n",
      "kyselivka__porubnesiret__romania__driving: 0.0\n",
      "kyselivka__vilchaoleksandrivka__belarus__driving: 0.0\n",
      "kyselivka__yahodyndorohusk__poland__driving: 0.0\n",
      "luhansk__choptysazakhon__hungary__driving: 0.0\n",
      "luhansk__choptysazakhon__hungary__transit: 0.0\n",
      "luhansk__dovzhanskynovoshakhtinsk__russianfederation__transit: 0.0\n",
      "luhansk__izvarynedonetsk__russianfederation__driving: 0.0\n",
      "luhansk__maiakyudobnepalanka__moldova__transit: 0.0\n",
      "luhansk__malyibereznyiubla__slovakia__driving: 0.0\n",
      "luhansk__platonovehoianulnou__moldova__driving: 0.0\n",
      "luhansk__porubnesiret__romania__driving: 0.0\n",
      "luhansk__senkivkaveselivka__belarus__transit: 0.0\n",
      "luhansk__shehynimedyka__poland__transit: 0.0\n",
      "luhansk__solotvynosihetumarmatsiiei__romania__transit: 0.0\n",
      "luhansk__uzhhorodvyshnieniemetske__slovakia__transit: 127869.0\n",
      "luhansk__vilchaoleksandrivka__belarus__driving: 0.0\n",
      "luhansk__yahodyndorohusk__poland__driving: 0.0\n",
      "lukyanivka__choptysazakhon__hungary__driving: 0.0\n",
      "lukyanivka__katerynivkakrupets__russianfederation__driving: 0.0\n",
      "lukyanivka__malyibereznyiubla__slovakia__driving: 0.0\n",
      "lukyanivka__platonovehoianulnou__moldova__driving: 0.0\n",
      "lukyanivka__porubnesiret__romania__driving: 0.0\n",
      "lukyanivka__slavutychkomaryn__belarus__driving: 145524.51\n",
      "lukyanivka__yahodyndorohusk__poland__driving: 391097.49\n",
      "lysychansk__choptysazakhon__hungary__driving: 0.0\n",
      "lysychansk__krasnatalivkavoloshino__russianfederation__driving: 0.0\n",
      "lysychansk__malyibereznyiubla__slovakia__driving: 162643.0\n",
      "lysychansk__platonovehoianulnou__moldova__driving: 0.0\n",
      "lysychansk__porubnesiret__romania__driving: 0.0\n",
      "lysychansk__vilchaoleksandrivka__belarus__driving: 0.0\n",
      "lysychansk__yahodyndorohusk__poland__driving: 0.0\n",
      "makariv__choptysazakhon__hungary__driving: 0.0\n",
      "makariv__malyibereznyiubla__slovakia__driving: 0.0\n",
      "makariv__mohylivpodilskyiotach__moldova__driving: 0.0\n",
      "makariv__porubnesiret__romania__driving: 0.0\n",
      "makariv__senkivkanoviyurkovychi__russianfederation__driving: 0.0\n",
      "makariv__vilchaoleksandrivka__belarus__driving: 0.0\n",
      "makariv__yahodyndorohusk__poland__driving: 84938.0\n",
      "malarohan__choptysazakhon__hungary__driving: 0.0\n",
      "malarohan__choptysazakhon__hungary__transit: 45659.87\n",
      "malarohan__hoptivkanehotievka__russianfederation__driving: 0.0\n",
      "malarohan__maiakyudobnepalanka__moldova__transit: 0.0\n",
      "malarohan__malyibereznyiubla__slovakia__driving: 0.0\n",
      "malarohan__platonovehoianulnou__moldova__driving: 0.0\n",
      "malarohan__pletenivkashebekino__russianfederation__transit: 0.0\n",
      "malarohan__porubnesiret__romania__driving: 0.0\n",
      "malarohan__senkivkaveselivka__belarus__transit: 0.0\n",
      "malarohan__smilnytsiakrostsenko__poland__transit: 0.0\n",
      "malarohan__solotvynosihetumarmatsiiei__romania__transit: 0.0\n",
      "malarohan__uzhhorodvyshnieniemetske__slovakia__transit: 245648.13\n",
      "malarohan__vilchaoleksandrivka__belarus__driving: 0.0\n",
      "malarohan__yahodyndorohusk__poland__driving: 0.0\n",
      "mariupol__choptysazakhon__hungary__driving: 0.0\n",
      "mariupol__malyibereznyiubla__slovakia__driving: 0.0\n",
      "mariupol__novoazovskveselovoznesenka__russianfederation__driving: 81522.0\n",
      "mariupol__platonovehoianulnou__moldova__driving: 0.0\n",
      "mariupol__porubnesiret__romania__driving: 0.0\n",
      "mariupol__vilchaoleksandrivka__belarus__driving: 0.0\n",
      "mariupol__yahodyndorohusk__poland__driving: 0.0\n",
      "melitopol__choptysazakhon__hungary__driving: 0.0\n",
      "melitopol__malyibereznyiubla__slovakia__driving: 0.0\n",
      "melitopol__novoazovskveselovoznesenka__russianfederation__driving: 0.0\n",
      "melitopol__platonovehoianulnou__moldova__driving: 59504.0\n",
      "melitopol__porubnesiret__romania__driving: 0.0\n",
      "melitopol__vilchaoleksandrivka__belarus__driving: 0.0\n",
      "melitopol__yahodyndorohusk__poland__driving: 0.0\n",
      "merefa__choptysazakhon__hungary__driving: 0.0\n",
      "merefa__hoptivkanehotievka__russianfederation__driving: 0.0\n",
      "merefa__malyibereznyiubla__slovakia__driving: 0.0\n",
      "merefa__platonovehoianulnou__moldova__driving: 0.0\n",
      "merefa__porubnesiret__romania__driving: 291308.0\n",
      "merefa__vilchaoleksandrivka__belarus__driving: 0.0\n",
      "merefa__yahodyndorohusk__poland__driving: 0.0\n",
      "metolkine__choptysazakhon__hungary__driving: 0.0\n",
      "metolkine__krasnatalivkavoloshino__russianfederation__driving: 127869.0\n",
      "metolkine__malyibereznyiubla__slovakia__driving: 0.0\n",
      "metolkine__platonovehoianulnou__moldova__driving: 0.0\n",
      "metolkine__porubnesiret__romania__driving: 0.0\n",
      "metolkine__vilchaoleksandrivka__belarus__driving: 0.0\n",
      "metolkine__yahodyndorohusk__poland__driving: 0.0\n",
      "motyzhyn__choptysazakhon__hungary__driving: 0.0\n",
      "motyzhyn__malyibereznyiubla__slovakia__driving: 0.0\n",
      "motyzhyn__mohylivpodilskyiotach__moldova__driving: 0.0\n",
      "motyzhyn__porubnesiret__romania__driving: 84938.0\n",
      "motyzhyn__senkivkanoviyurkovychi__russianfederation__driving: 0.0\n",
      "motyzhyn__vilchaoleksandrivka__belarus__driving: 0.0\n",
      "motyzhyn__yahodyndorohusk__poland__driving: 0.0\n",
      "mykolaiv__bachivsktroiebortne__russianfederation__transit: 0.0\n",
      "mykolaiv__choptysazakhon__hungary__driving: 0.0\n",
      "mykolaiv__choptysazakhon__hungary__transit: 0.0\n",
      "mykolaiv__kuchurhanpervomaisk__moldova__driving: 0.0\n",
      "mykolaiv__maiakyudobnepalanka__moldova__transit: 0.0\n",
      "mykolaiv__malyibereznyiubla__slovakia__driving: 0.0\n",
      "mykolaiv__orlivkaisaceea__romania__driving: 121874.0\n",
      "mykolaiv__ravaruskakhrebenne__poland__transit: 0.0\n",
      "mykolaiv__senkivkanoviyurkovychi__russianfederation__driving: 0.0\n",
      "mykolaiv__senkivkaveselivka__belarus__transit: 0.0\n",
      "mykolaiv__solotvynosihetumarmatsiiei__romania__transit: 0.0\n",
      "mykolaiv__ustyluhzosin__poland__driving: 0.0\n",
      "mykolaiv__uzhhorodvyshnieniemetske__slovakia__transit: 0.0\n",
      "mykolaiv__vilchaoleksandrivka__belarus__driving: 0.0\n",
      "novobakhmutivka__choptysazakhon__hungary__driving: 0.0\n",
      "novobakhmutivka__malyibereznyiubla__slovakia__driving: 0.0\n",
      "novobakhmutivka__marynivkakuibyshevo__russianfederation__driving: 0.0\n",
      "novobakhmutivka__platonovehoianulnou__moldova__driving: 400856.0\n",
      "novobakhmutivka__porubnesiret__romania__driving: 0.0\n",
      "novobakhmutivka__vilchaoleksandrivka__belarus__driving: 0.0\n",
      "novobakhmutivka__yahodyndorohusk__poland__driving: 0.0\n",
      "okhtyrka__choptysazakhon__hungary__driving: 0.0\n",
      "okhtyrka__hoptivkanehotievka__russianfederation__transit: 0.0\n",
      "okhtyrka__luzhankaberehshuran__hungary__transit: 0.0\n",
      "okhtyrka__malyibereznyiubla__slovakia__driving: 0.0\n",
      "okhtyrka__mohylivpodilskyiotach__moldova__transit: 0.0\n",
      "okhtyrka__platonovehoianulnou__moldova__driving: 0.0\n",
      "okhtyrka__porubnesiret__romania__driving: 0.0\n",
      "okhtyrka__senkivkaveselivka__belarus__transit: 0.0\n",
      "okhtyrka__slavutychkomaryn__belarus__driving: 0.0\n",
      "okhtyrka__smilnytsiakrostsenko__poland__transit: 0.0\n",
      "okhtyrka__solotvynosihetumarmatsiiei__romania__transit: 0.0\n",
      "okhtyrka__uzhhorodvyshnieniemetske__slovakia__transit: 71480.0\n",
      "okhtyrka__velykapysarivkahraivoron__russianfederation__driving: 0.0\n",
      "okhtyrka__yahodyndorohusk__poland__driving: 0.0\n",
      "oleksandrivka__choptysazakhon__hungary__driving: 0.0\n",
      "oleksandrivka__malyibereznyiubla__slovakia__driving: 0.0\n",
      "oleksandrivka__novoazovskveselovoznesenka__russianfederation__driving: 0.0\n",
      "oleksandrivka__platonovehoianulnou__moldova__driving: 59366.27\n",
      "oleksandrivka__porubnesiret__romania__driving: 62507.73\n",
      "oleksandrivka__vilchaoleksandrivka__belarus__driving: 0.0\n",
      "oleksandrivka__yahodyndorohusk__poland__driving: 0.0\n",
      "oleshky__choptysazakhon__hungary__driving: 0.0\n",
      "oleshky__malyibereznyiubla__slovakia__driving: 0.0\n",
      "oleshky__novoazovskveselovoznesenka__russianfederation__driving: 0.0\n",
      "oleshky__platonovehoianulnou__moldova__driving: 0.0\n",
      "oleshky__porubnesiret__romania__driving: 100664.0\n",
      "oleshky__vilchaoleksandrivka__belarus__driving: 0.0\n",
      "oleshky__yahodyndorohusk__poland__driving: 0.0\n",
      "pervomaisk__choptysazakhon__hungary__driving: 0.0\n",
      "pervomaisk__izvarynedonetsk__russianfederation__driving: 162643.0\n",
      "pervomaisk__malyibereznyiubla__slovakia__driving: 0.0\n",
      "pervomaisk__platonovehoianulnou__moldova__driving: 0.0\n",
      "pervomaisk__porubnesiret__romania__driving: 0.0\n",
      "pervomaisk__vilchaoleksandrivka__belarus__driving: 0.0\n",
      "pervomaisk__yahodyndorohusk__poland__driving: 0.0\n",
      "polohy__choptysazakhon__hungary__driving: 0.0\n",
      "polohy__malyibereznyiubla__slovakia__driving: 0.0\n",
      "polohy__novoazovskveselovoznesenka__russianfederation__driving: 0.0\n",
      "polohy__platonovehoianulnou__moldova__driving: 23573.0\n",
      "polohy__porubnesiret__romania__driving: 0.0\n",
      "polohy__vilchaoleksandrivka__belarus__driving: 0.0\n",
      "polohy__yahodyndorohusk__poland__driving: 0.0\n",
      "popasna__choptysazakhon__hungary__driving: 0.0\n",
      "popasna__krasnatalivkavoloshino__russianfederation__driving: 0.0\n",
      "popasna__malyibereznyiubla__slovakia__driving: 162643.0\n",
      "popasna__platonovehoianulnou__moldova__driving: 0.0\n",
      "popasna__porubnesiret__romania__driving: 0.0\n",
      "popasna__vilchaoleksandrivka__belarus__driving: 0.0\n",
      "popasna__yahodyndorohusk__poland__driving: 0.0\n",
      "rubizhne__choptysazakhon__hungary__driving: 0.0\n",
      "rubizhne__krasnatalivkavoloshino__russianfederation__driving: 0.0\n",
      "rubizhne__malyibereznyiubla__slovakia__driving: 0.0\n",
      "rubizhne__platonovehoianulnou__moldova__driving: 0.0\n",
      "rubizhne__porubnesiret__romania__driving: 162643.0\n",
      "rubizhne__vilchaoleksandrivka__belarus__driving: 0.0\n",
      "rubizhne__yahodyndorohusk__poland__driving: 0.0\n",
      "schastia__choptysazakhon__hungary__driving: 0.0\n",
      "schastia__izvarynedonetsk__russianfederation__driving: 127869.0\n",
      "schastia__malyibereznyiubla__slovakia__driving: 0.0\n",
      "schastia__platonovehoianulnou__moldova__driving: 0.0\n",
      "schastia__porubnesiret__romania__driving: 0.0\n",
      "schastia__vilchaoleksandrivka__belarus__driving: 0.0\n",
      "schastia__yahodyndorohusk__poland__driving: 0.0\n",
      "severodonetsk__choptysazakhon__hungary__driving: 0.0\n",
      "severodonetsk__choptysazakhon__hungary__transit: 0.0\n",
      "severodonetsk__dovzhanskynovoshakhtinsk__russianfederation__transit: 0.0\n",
      "severodonetsk__krakivetskorchova__poland__transit: 0.0\n",
      "severodonetsk__krasnatalivkavoloshino__russianfederation__driving: 0.0\n",
      "severodonetsk__maiakyudobnepalanka__moldova__transit: 0.0\n",
      "severodonetsk__malyibereznyiubla__slovakia__driving: 0.0\n",
      "severodonetsk__platonovehoianulnou__moldova__driving: 0.0\n",
      "severodonetsk__porubnesiret__romania__driving: 0.0\n",
      "severodonetsk__senkivkaveselivka__belarus__transit: 0.0\n",
      "severodonetsk__uzhhorodvyshnieniemetske__slovakia__transit: 162643.0\n",
      "severodonetsk__vilchaoleksandrivka__belarus__driving: 0.0\n",
      "severodonetsk__yahodyndorohusk__poland__driving: 0.0\n",
      "sumy__choptysazakhon__hungary__driving: 0.0\n",
      "sumy__malyibereznyiubla__slovakia__driving: 0.0\n",
      "sumy__mohylivpodilskyiotach__moldova__transit: 0.0\n",
      "sumy__platonovehoianulnou__moldova__driving: 0.0\n",
      "sumy__pokrovkakolotylіvka__russianfederation__driving: 0.0\n",
      "sumy__porubnesiret__romania__driving: 0.0\n",
      "sumy__senkivkanoviyurkovychi__russianfederation__transit: 0.0\n",
      "sumy__senkivkaveselivka__belarus__transit: 0.0\n",
      "sumy__slavutychkomaryn__belarus__driving: 0.0\n",
      "sumy__solotvynosihetumarmatsiiei__romania__transit: 0.0\n",
      "sumy__ustyluhzosin__poland__transit: 55088.0\n",
      "sumy__uzhhorodvyshnieniemetske__slovakia__transit: 0.0\n",
      "sumy__yahodyndorohusk__poland__driving: 0.0\n",
      "velykaoleksandrivka__choptysazakhon__hungary__driving: 0.0\n",
      "velykaoleksandrivka__malyibereznyiubla__slovakia__driving: 0.0\n",
      "velykaoleksandrivka__novoazovskveselovoznesenka__russianfederation__driving: 0.0\n",
      "velykaoleksandrivka__platonovehoianulnou__moldova__driving: 100664.0\n",
      "velykaoleksandrivka__porubnesiret__romania__driving: 0.0\n",
      "velykaoleksandrivka__vilchaoleksandrivka__belarus__driving: 0.0\n",
      "velykaoleksandrivka__yahodyndorohusk__poland__driving: 0.0\n",
      "virnopillia__choptysazakhon__hungary__driving: 0.0\n",
      "virnopillia__hoptivkanehotievka__russianfederation__driving: 0.0\n",
      "virnopillia__malyibereznyiubla__slovakia__driving: 0.0\n",
      "virnopillia__platonovehoianulnou__moldova__driving: 0.0\n",
      "virnopillia__porubnesiret__romania__driving: 19556.0\n",
      "virnopillia__vilchaoleksandrivka__belarus__driving: 0.0\n",
      "virnopillia__yahodyndorohusk__poland__driving: 0.0\n",
      "volnovakha__choptysazakhon__hungary__driving: 0.0\n",
      "volnovakha__malyibereznyiubla__slovakia__driving: 0.0\n",
      "volnovakha__novoazovskveselovoznesenka__russianfederation__driving: 400856.0\n",
      "volnovakha__platonovehoianulnou__moldova__driving: 0.0\n",
      "volnovakha__porubnesiret__romania__driving: 0.0\n",
      "volnovakha__vilchaoleksandrivka__belarus__driving: 0.0\n",
      "volnovakha__yahodyndorohusk__poland__driving: 0.0\n",
      "vovchansk__choptysazakhon__hungary__driving: 0.0\n",
      "vovchansk__malyibereznyiubla__slovakia__driving: 0.0\n",
      "vovchansk__platonovehoianulnou__moldova__driving: 0.0\n",
      "vovchansk__pletenivkashebekino__russianfederation__driving: 0.0\n",
      "vovchansk__porubnesiret__romania__driving: 19962.0\n",
      "vovchansk__vilchaoleksandrivka__belarus__driving: 0.0\n",
      "vovchansk__yahodyndorohusk__poland__driving: 0.0\n",
      "yavorivcombattrainingcenter__bachivsktroiebortne__russianfederation__transit: 0.0\n",
      "yavorivcombattrainingcenter__choptysazakhon__hungary__driving: 0.0\n",
      "yavorivcombattrainingcenter__choptysazakhon__hungary__transit: 0.0\n",
      "yavorivcombattrainingcenter__diakovehalmeu__romania__driving: 0.0\n",
      "yavorivcombattrainingcenter__hrushivbudomiezh__poland__transit: 0.0\n",
      "yavorivcombattrainingcenter__krakivetskorchova__poland__driving: 0.0\n",
      "yavorivcombattrainingcenter__malyibereznyiubla__slovakia__driving: 0.0\n",
      "yavorivcombattrainingcenter__mamalyhaкryva__moldova__driving: 0.0\n",
      "yavorivcombattrainingcenter__mohylivpodilskyiotach__moldova__transit: 0.0\n",
      "yavorivcombattrainingcenter__pishchaoltush__belarus__driving: 0.0\n",
      "yavorivcombattrainingcenter__senkivkanoviyurkovychi__russianfederation__driving: 0.0\n",
      "yavorivcombattrainingcenter__senkivkaveselivka__belarus__transit: 0.0\n",
      "yavorivcombattrainingcenter__uzhhorodvyshnieniemetske__slovakia__transit: 16264.0\n",
      "zaporizhia__choptysazakhon__hungary__driving: 0.0\n",
      "zaporizhia__choptysazakhon__hungary__transit: 328791.0\n",
      "zaporizhia__hoptivkanehotievka__russianfederation__transit: 0.0\n",
      "zaporizhia__hrushivbudomiezh__poland__transit: 0.0\n",
      "zaporizhia__maiakyudobnepalanka__moldova__transit: 0.0\n",
      "zaporizhia__malyibereznyiubla__slovakia__driving: 0.0\n",
      "zaporizhia__novoazovskveselovoznesenka__russianfederation__driving: 0.0\n",
      "zaporizhia__platonovehoianulnou__moldova__driving: 0.0\n",
      "zaporizhia__porubnesiret__romania__driving: 0.0\n",
      "zaporizhia__senkivkaveselivka__belarus__transit: 0.0\n",
      "zaporizhia__solotvynosihetumarmatsiiei__romania__transit: 0.0\n",
      "zaporizhia__vilchaoleksandrivka__belarus__driving: 0.0\n",
      "zaporizhia__yahodyndorohusk__poland__driving: 0.0\n",
      "Oleksandrivka_refugee_constraint: 0.0\n",
      "Kyselivka_refugee_constraint: 0.0\n",
      "Mykolaiv_refugee_constraint: 0.0\n",
      "Oleshky_refugee_constraint: 0.0\n",
      "Kherson_refugee_constraint: 0.0\n",
      "Velyka_Oleksandrivka_refugee_constraint: 0.0\n",
      "Kobleve_refugee_constraint: 0.0\n",
      "Melitopol_refugee_constraint: 0.0\n",
      "Mariupol_refugee_constraint: 0.0\n",
      "Polohy_refugee_constraint: 0.0\n",
      "Volnovakha_refugee_constraint: 0.0\n",
      "Donetsk_refugee_constraint: 0.0\n",
      "Novobakhmutivka_refugee_constraint: 0.0\n",
      "Zaporizhia_refugee_constraint: 0.0\n",
      "Kurakhove_refugee_constraint: 0.0\n",
      "Popasna_refugee_constraint: 0.0\n",
      "Pervomaisk_refugee_constraint: 0.0\n",
      "Kramatorsk_refugee_constraint: 0.0\n",
      "Bilohorivka_refugee_constraint: 0.0\n",
      "Lysychansk_refugee_constraint: 0.0\n",
      "Severodonetsk_refugee_constraint: 0.0\n",
      "Kreminna_refugee_constraint: 0.0\n",
      "Rubizhne_refugee_constraint: 0.0\n",
      "Luhansk_refugee_constraint: 0.0\n",
      "Schastia_refugee_constraint: 0.0\n",
      "Metolkine_refugee_constraint: 0.0\n",
      "Virnopillia_refugee_constraint: 0.0\n",
      "Izium_refugee_constraint: 0.0\n",
      "Merefa_refugee_constraint: 0.0\n",
      "Mala_Rohan_refugee_constraint: 7.275957614183426e-12\n",
      "Kharkiv_refugee_constraint: 0.0\n",
      "Yavoriv_Combat_Training_Center_refugee_constraint: 0.0\n",
      "Okhtyrka_refugee_constraint: 0.0\n",
      "Vovchansk_refugee_constraint: 0.0\n",
      "Motyzhyn_refugee_constraint: 0.0\n",
      "Makariv_refugee_constraint: 0.0\n",
      "Bucha_refugee_constraint: 0.0\n",
      "Irpin_refugee_constraint: 0.0\n",
      "Baryshivka_refugee_constraint: 0.0\n",
      "Lukyanivka_refugee_constraint: 0.0\n",
      "Borodianka_refugee_constraint: 0.0\n",
      "Hostomel_refugee_constraint: 0.0\n",
      "Desna_refugee_constraint: 0.0\n",
      "Sumy_refugee_constraint: 0.0\n",
      "Kruty_refugee_constraint: 0.0\n",
      "Chernihiv_refugee_constraint: 0.0\n",
      "Poland_attraction: 2.7755575615628914e-17\n",
      "Moldova_attraction: 8.673617379884035e-19\n",
      "Romania_attraction: -3.2959746043559335e-17\n",
      "Slovakia_attraction: 1.214306433183765e-17\n",
      "Hungary_attraction: -1.734723475976807e-18\n",
      "Belarus_attraction: 0.0\n"
     ]
    }
   ],
   "source": [
    "print(f\"status: {model.status}, {LpStatus[model.status]}\")\n",
    "print(f\"objective: {model.objective.value()}\")\n",
    "\n",
    "\n",
    "for var in model.variables():\n",
    "    print(f\"{var.name}: {var.value()}\")\n",
    "\n",
    "for name, constraint in model.constraints.items():\n",
    "    print(f\"{name}: {constraint.value()}\")"
   ]
  },
  {
   "cell_type": "code",
   "execution_count": 30,
   "id": "2ba7ec13",
   "metadata": {},
   "outputs": [],
   "source": [
    "refugee_counts = {}\n",
    "for c in countries:\n",
    "    refugee_counts[c] = 0"
   ]
  },
  {
   "cell_type": "code",
   "execution_count": 31,
   "id": "50d9fbbc",
   "metadata": {},
   "outputs": [],
   "source": [
    "for var in model.variables():\n",
    "    for c in countries:\n",
    "        if c.split(' ')[0].lower() in var.name.lower():\n",
    "            refugee_counts[c] += var.value()"
   ]
  },
  {
   "cell_type": "code",
   "execution_count": 32,
   "id": "e9a78fe4",
   "metadata": {},
   "outputs": [
    {
     "name": "stdout",
     "output_type": "stream",
     "text": [
      "Poland: 0.18\n",
      "Moldova: 0.12\n",
      "Romania: 0.17\n",
      "Slovakia: 0.2\n",
      "Hungary: 0.11\n",
      "Belarus: 0.03\n",
      "Russian Federation: 0.19\n"
     ]
    }
   ],
   "source": [
    "for kk, vv in refugee_counts.items():\n",
    "    ratio = round(vv/total_refugees,2)\n",
    "    print(f\"{kk}: {ratio}\")"
   ]
  },
  {
   "cell_type": "code",
   "execution_count": 33,
   "id": "bf60c8ec",
   "metadata": {},
   "outputs": [
    {
     "data": {
      "text/plain": [
       "{'Hungary': 0.11,\n",
       " 'Belarus': 0.03,\n",
       " 'Moldova': 0.12,\n",
       " 'Poland': 0.18,\n",
       " 'Romania': 0.17,\n",
       " 'Russian Federation': 0.19,\n",
       " 'Slovakia': 0.2}"
      ]
     },
     "execution_count": 33,
     "metadata": {},
     "output_type": "execute_result"
    }
   ],
   "source": [
    "attractions"
   ]
  },
  {
   "cell_type": "code",
   "execution_count": 34,
   "id": "7906e274",
   "metadata": {},
   "outputs": [
    {
     "name": "stdout",
     "output_type": "stream",
     "text": [
      "Poland: 1228413\n",
      "Moldova: 818942\n",
      "Romania: 1160168\n",
      "Slovakia: 1364903\n",
      "Hungary: 750697\n",
      "Belarus: 204736\n",
      "Russian Federation: 1296656\n"
     ]
    }
   ],
   "source": [
    "for kk, vv in refugee_counts.items():\n",
    "    refs = round(vv)\n",
    "    print(f\"{kk}: {refs}\")"
   ]
  },
  {
   "cell_type": "code",
   "execution_count": 35,
   "id": "aadcc9cd",
   "metadata": {},
   "outputs": [],
   "source": [
    "results = []\n",
    "for var in model.variables():\n",
    "    results.append((var, var.value()))\n",
    "results = pd.DataFrame(results, columns=['variable','value'])    "
   ]
  },
  {
   "cell_type": "code",
   "execution_count": 36,
   "id": "bf64c1b4",
   "metadata": {},
   "outputs": [],
   "source": [
    "results['conflict'] = results.variable.apply(lambda x: variables_lookup[x.name]['conflict'])\n",
    "results['crossing'] = results.variable.apply(lambda x: variables_lookup[x.name]['crossing'])\n",
    "results['country'] = results.variable.apply(lambda x: variables_lookup[x.name]['country'])\n",
    "results['mode'] = results.variable.apply(lambda x: variables_lookup[x.name]['mode'])"
   ]
  },
  {
   "cell_type": "code",
   "execution_count": 37,
   "id": "79dc12ac",
   "metadata": {},
   "outputs": [],
   "source": [
    "results.to_csv('outputs/linear_prog_results.csv', index=False)"
   ]
  }
 ],
 "metadata": {
  "kernelspec": {
   "display_name": "Python 3 (ipykernel)",
   "language": "python",
   "name": "python3"
  },
  "language_info": {
   "codemirror_mode": {
    "name": "ipython",
    "version": 3
   },
   "file_extension": ".py",
   "mimetype": "text/x-python",
   "name": "python",
   "nbconvert_exporter": "python",
   "pygments_lexer": "ipython3",
   "version": "3.10.5"
  }
 },
 "nbformat": 4,
 "nbformat_minor": 5
}
